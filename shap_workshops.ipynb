{
  "nbformat": 4,
  "nbformat_minor": 0,
  "metadata": {
    "colab": {
      "provenance": []
    },
    "kernelspec": {
      "name": "python3",
      "display_name": "Python 3"
    },
    "language_info": {
      "name": "python"
    }
  },
  "cells": [
    {
      "cell_type": "code",
      "execution_count": null,
      "metadata": {
        "id": "FBawk0IMPT5C",
        "collapsed": true
      },
      "outputs": [],
      "source": [
        "!pip install qsprpred"
      ]
    },
    {
      "cell_type": "code",
      "source": [
        "!pip install scikit-learn==1.6.1"
      ],
      "metadata": {
        "collapsed": true,
        "id": "sr1Y9BbW_fjz"
      },
      "execution_count": null,
      "outputs": []
    },
    {
      "cell_type": "code",
      "source": [
        "!pip install numpy==2.0.2"
      ],
      "metadata": {
        "collapsed": true,
        "id": "ozalq-LC0Kje"
      },
      "execution_count": null,
      "outputs": []
    },
    {
      "cell_type": "code",
      "source": [
        "!pip install shap"
      ],
      "metadata": {
        "collapsed": true,
        "id": "ZHuXtSdmRp-u"
      },
      "execution_count": null,
      "outputs": []
    },
    {
      "cell_type": "markdown",
      "source": [
        "## <mark>Instructions</mark>\n",
        "1. restart the session\n",
        "2. download [QSPRPred data file](https://onedrive.live.com/?redeem=aHR0cHM6Ly8xZHJ2Lm1zL3UvcyFBdHpXcXUwaW5ralgzUVJ4WE9rVEZOdjdJVjd1P2U9UFBqME8y&cid=D7489E22EDAAD6DC&id=D7489E22EDAAD6DC%2111908&parId=D7489E22EDAAD6DC%21107&o=OneUp)\n",
        "2. upload QSPRPred data file to current working directory\n",
        "3. unzip it into `tutorial_data`\n",
        "\n",
        "\n"
      ],
      "metadata": {
        "id": "BnubamIIUL9X"
      }
    },
    {
      "cell_type": "code",
      "source": [
        "%matplotlib inline\n",
        "\n",
        "import os\n",
        "# import time\n",
        "\n",
        "import numpy as np\n",
        "import pandas as pd\n",
        "\n",
        "import matplotlib.pyplot as plt\n",
        "import seaborn as sns\n",
        "\n",
        "import shap\n",
        "from IPython.display import display\n",
        "\n",
        "# data preparation\n",
        "from qsprpred.data import QSPRDataset\n",
        "from qsprpred.data import RandomSplit, ClusterSplit\n",
        "from qsprpred.data.descriptors.fingerprints import MorganFP, MaccsFP\n",
        "\n",
        "# model preparation\n",
        "import sklearn\n",
        "# from sklearn.linear_model import LinearRegression\n",
        "from sklearn.metrics import mean_squared_error, r2_score\n",
        "from sklearn.metrics import accuracy_score, roc_auc_score\n",
        "from scipy.stats import spearmanr\n",
        "\n",
        "import xgboost\n",
        "# from qsprpred.models import SklearnModel\n",
        "# from sklearn.neighbors import KNeighborsClassifier\n",
        "# from sklearn.ensemble import RandomForestClassifier\n",
        "# from qsprpred.models import CrossValAssessor, TestSetAssessor\n",
        "\n",
        "from exai_tutorial import get_A2A_data, get_esol_data\n",
        "from exai_tutorial import get_smarts, get_smarts_by_number\n",
        "from exai_tutorial import score_model, feature_removal_score"
      ],
      "metadata": {
        "id": "W9TDEP2wXqvc"
      },
      "execution_count": null,
      "outputs": []
    },
    {
      "cell_type": "code",
      "source": [
        "data_dir = \"tutorial_data\"\n",
        "out_dir = \"tutorial_output\"\n",
        "out_data_dir = os.path.join(out_dir, \"data\")\n",
        "models_dir = os.path.join(out_dir, \"models\")\n",
        "\n",
        "os.makedirs(out_data_dir, exist_ok=True)\n",
        "os.makedirs(models_dir, exist_ok=True)"
      ],
      "metadata": {
        "id": "qHqvcUZXXDmR"
      },
      "execution_count": null,
      "outputs": []
    },
    {
      "cell_type": "markdown",
      "source": [
        "# Task: classification\n",
        "## Data preparation"
      ],
      "metadata": {
        "id": "ZuJB0R_t1Nti"
      }
    },
    {
      "cell_type": "code",
      "source": [
        "dataset = get_A2A_data(data_dir, out_data_dir)\n",
        "display(dataset.getDF())"
      ],
      "metadata": {
        "id": "9ww7JDXAJekt"
      },
      "execution_count": null,
      "outputs": []
    },
    {
      "cell_type": "markdown",
      "source": [
        "<mark>Choose which split to use</mark>"
      ],
      "metadata": {
        "id": "6cxmF79YvEdy"
      }
    },
    {
      "cell_type": "code",
      "source": [
        "# Specifiy random split for creating the train (80%) and test set (20%)\n",
        "rand_split = RandomSplit(test_fraction=0.2, dataset=dataset)\n",
        "clst_split = ClusterSplit(test_fraction=0.2, dataset=dataset)\n",
        "\n",
        "# calculate compound features and split dataset into train and test\n",
        "dataset.prepareDataset(\n",
        "    split=rand_split,\n",
        "    # split=clst_split,\n",
        "    feature_calculators=[MaccsFP()],\n",
        ")\n",
        "dataset.save()"
      ],
      "metadata": {
        "id": "Cde203M-PpeS"
      },
      "execution_count": null,
      "outputs": []
    },
    {
      "cell_type": "code",
      "source": [
        "print(f'train set size: {len(dataset.X)}')\n",
        "print(f'test set size: {len(dataset.X_ind)}')"
      ],
      "metadata": {
        "id": "i3uA9HNDV56l"
      },
      "execution_count": null,
      "outputs": []
    },
    {
      "cell_type": "markdown",
      "source": [
        "## Training the model\n",
        "We'll train an XGBoost model."
      ],
      "metadata": {
        "id": "XLOoVkjx6ZcD"
      }
    },
    {
      "cell_type": "code",
      "source": [
        "xgb_model = xgboost.XGBClassifier()\n",
        "_ = xgb_model.fit(dataset.X, dataset.y)\n",
        "\n",
        "acc_test = accuracy_score(xgb_model.predict(dataset.X_ind), dataset.y_ind)\n",
        "roc_test = roc_auc_score(xgb_model.predict(dataset.X_ind), dataset.y_ind)\n",
        "\n",
        "print(f'test set accuracy: {acc_test:.2f}')\n",
        "print(f'test set roc: {roc_test:.2f}')"
      ],
      "metadata": {
        "id": "wTVWJ_CLnGnZ"
      },
      "execution_count": null,
      "outputs": []
    },
    {
      "cell_type": "markdown",
      "source": [
        "## Calculating SHAP values"
      ],
      "metadata": {
        "id": "p1XF3bcV8DTy"
      }
    },
    {
      "cell_type": "markdown",
      "source": [
        "<mark>First, we must define an explainer. Try figuring out what parameter values to use.</mark>\n",
        "\n",
        "You can use the [documentation](https://shap.readthedocs.io/en/latest/generated/shap.TreeExplainer.html#shap.TreeExplainer)"
      ],
      "metadata": {
        "id": "XPM2-6ZlVODl"
      }
    },
    {
      "cell_type": "code",
      "source": [
        "# define explainer\n",
        "xgb_explainer = shap.TreeExplainer('your code here')"
      ],
      "metadata": {
        "id": "PSkW1t3E66Tm"
      },
      "execution_count": null,
      "outputs": []
    },
    {
      "cell_type": "markdown",
      "source": [
        "<mark>Calculate SHAP values on train and test set</mark>"
      ],
      "metadata": {
        "id": "VIrOHB6xWLqt"
      }
    },
    {
      "cell_type": "code",
      "source": [
        "sv_train = 'your code here'\n",
        "sv_test = 'your code here'"
      ],
      "metadata": {
        "id": "FD71ZfQ57mXg"
      },
      "execution_count": null,
      "outputs": []
    },
    {
      "cell_type": "markdown",
      "source": [
        "### <mark>**Ex. 0:**</mark> Feature MACCS_0 is always set to 0, is it important?\n",
        "You can use `np.sum` function."
      ],
      "metadata": {
        "id": "l1gw1QyG8Zas"
      }
    },
    {
      "cell_type": "code",
      "source": [
        "shap_sum = 'your code here'  # calculate a sum of SHAP values for each sample\n",
        "print(shap_sum[0], shap_sum[0]/sv_train.values.shape[0])"
      ],
      "metadata": {
        "id": "aJG9azHx66Qd"
      },
      "execution_count": null,
      "outputs": []
    },
    {
      "cell_type": "markdown",
      "source": [
        "**conclusion:**"
      ],
      "metadata": {
        "id": "onPGiV-k8rTh"
      }
    },
    {
      "cell_type": "markdown",
      "source": [
        "#### <mark>**Ex. 1:**</mark> Check whether SHAP values sum to the prediction.\n",
        "\n",
        "- Use `model.predict_proba()`.\n",
        "- `sv_train.base_values` holds base value."
      ],
      "metadata": {
        "id": "FdWfH4mc65H_"
      }
    },
    {
      "cell_type": "code",
      "source": [
        "preds = 'your code here'  # calculate predictions\n",
        "diff = 'your code here'   # calculate difference between predictions and summed SHAP values\n",
        "\n",
        "print(min(diff), max(diff), np.var(diff))"
      ],
      "metadata": {
        "id": "uUCnZDaJ66N3"
      },
      "execution_count": null,
      "outputs": []
    },
    {
      "cell_type": "markdown",
      "source": [
        "**conclusion:**"
      ],
      "metadata": {
        "id": "s3RrUPrF8Axb"
      }
    },
    {
      "cell_type": "markdown",
      "source": [
        "#### <mark>**Ex. 2:**</mark> Gini coefficients and SHAP values are two ways of explaning tree-based models. Both methods are meant to estimate the importance of input features; however, while Gini coefficient is an impurity-based measure, SHAP values are formulated in such a way to ensure fair attribution.\n",
        "#### Do you think Gini and SHAP will provide the same results? Analyse it in cells below."
      ],
      "metadata": {
        "id": "YVGgdTNH8rMJ"
      }
    },
    {
      "cell_type": "markdown",
      "source": [
        "First, we calculate and visualise Gini coefficients."
      ],
      "metadata": {
        "id": "7chyhbyabnJS"
      }
    },
    {
      "cell_type": "code",
      "source": [
        "gini = xgb_model.feature_importances_  # The impurity-based feature importances"
      ],
      "metadata": {
        "id": "RiLP70SJ8Z4k"
      },
      "execution_count": null,
      "outputs": []
    },
    {
      "cell_type": "code",
      "source": [
        "plt.figure()\n",
        "plt.scatter(gini, np.absolute(sv_train.values).sum(axis=0))\n",
        "plt.show()"
      ],
      "metadata": {
        "id": "o9cTXJ928afW"
      },
      "execution_count": null,
      "outputs": []
    },
    {
      "cell_type": "markdown",
      "source": [
        "<mark>Compare Gini and SHAP</mark>"
      ],
      "metadata": {
        "id": "eXc8Y8IUbwh0"
      }
    },
    {
      "cell_type": "code",
      "source": [
        "# Correlations of -1 or +1 imply an exact linear relationship. Positive correlations imply that as x increases, so does y\n",
        "'your code here'"
      ],
      "metadata": {
        "id": "0VFuxgBc8aX3"
      },
      "execution_count": null,
      "outputs": []
    },
    {
      "cell_type": "markdown",
      "source": [
        "**conclusion:**"
      ],
      "metadata": {
        "id": "NScODPTT9lcZ"
      }
    },
    {
      "cell_type": "code",
      "source": [
        "'your code here'"
      ],
      "metadata": {
        "id": "9B2b3txO1IDs"
      },
      "execution_count": null,
      "outputs": []
    },
    {
      "cell_type": "markdown",
      "source": [
        "**conclusion:**"
      ],
      "metadata": {
        "id": "rOXQiJcr-E8Q"
      }
    },
    {
      "cell_type": "code",
      "source": [
        "'your code here'"
      ],
      "metadata": {
        "id": "mp4nUwzh1IBL"
      },
      "execution_count": null,
      "outputs": []
    },
    {
      "cell_type": "markdown",
      "source": [
        "**conclusion:**"
      ],
      "metadata": {
        "id": "7bwLC1u6-bOP"
      }
    },
    {
      "cell_type": "markdown",
      "source": [
        "<mark>Which feature was ranked most different by SHAP and Gini?</mark>\n",
        "\n",
        "- Remember that function `np.argsort` sorts from lowest to largest values.\n",
        "- `np.where` might be helpful\n",
        "- `np.argmax` might also be helpful\n",
        "\n",
        "[smarts.plus](https://smarts.plus/) can be used to visualise smarts patterns"
      ],
      "metadata": {
        "id": "Kd5pqPn5cE7W"
      }
    },
    {
      "cell_type": "code",
      "source": [
        "gini_rank = 'your code here'  # calculate rank\n",
        "shap_rank = 'your code here'  # calculate rank\n",
        "\n",
        "rank_diff = 'your code here'  # calculate rank difference\n",
        "\n",
        "diffest_feature = 'your code here'  # calculate index of the feature for which rank difference is the biggest\n",
        "distance = rank_diff[diffest_feature]\n",
        "\n",
        "print(f'feature name: {sv_train.feature_names[diffest_feature]}, feature SMARTS: {get_smarts_by_number(diffest_feature)}; distance: {distance}')"
      ],
      "metadata": {
        "id": "uNs9-N4c9eDF"
      },
      "execution_count": null,
      "outputs": []
    },
    {
      "cell_type": "markdown",
      "source": [
        "**conclusion:**"
      ],
      "metadata": {
        "id": "xPaKWZt--s0V"
      }
    },
    {
      "cell_type": "markdown",
      "source": [
        "<mark>If we chose k most important features using Gini and using SHAP, would we get the same features?</mark>"
      ],
      "metadata": {
        "id": "EMU4_qwwd30F"
      }
    },
    {
      "cell_type": "code",
      "source": [
        "for k in[5, 10, 25, 50]:\n",
        "  gini_k = gini_rank[:k]\n",
        "  shap_k = shap_rank[:k]\n",
        "  n_common = len(set(gini_k).intersection(set(shap_k)))\n",
        "  print(f'for k={k} the intersection ratio is {n_common/k}')"
      ],
      "metadata": {
        "id": "vlPczrJL9eAa"
      },
      "execution_count": null,
      "outputs": []
    },
    {
      "cell_type": "markdown",
      "source": [
        "**conclusion:**"
      ],
      "metadata": {
        "id": "a5jc-FaO-3uJ"
      }
    },
    {
      "cell_type": "markdown",
      "source": [
        "#### <mark>**Ex. 3:**</mark> Visualisation of SHAP explanations\n",
        "\n",
        "The SHAP library offers a range of different visualisations. Let's see some of them!"
      ],
      "metadata": {
        "id": "8_Nm05jC--Qs"
      }
    },
    {
      "cell_type": "code",
      "source": [
        "# sample a random molecule from the dataset\n",
        "sample_id = 100\n",
        "sample_id = np.random.randint(len(sv_train))\n",
        "print(sample_id)"
      ],
      "metadata": {
        "id": "GWymM-rn9d-V"
      },
      "execution_count": null,
      "outputs": []
    },
    {
      "cell_type": "code",
      "source": [
        "plt.figure()\n",
        "shap.plots.decision(sv_train.base_values[sample_id], sv_train.values[sample_id, :], feature_names=sv_train.feature_names, feature_display_range=slice(-1, -10, -1))\n"
      ],
      "metadata": {
        "id": "IPrU5OSX_kzE"
      },
      "execution_count": null,
      "outputs": []
    },
    {
      "cell_type": "code",
      "source": [
        "plt.figure()\n",
        "shap.plots.waterfall(sv_train[sample_id], max_display=5, show=True)"
      ],
      "metadata": {
        "id": "UeRx-wmZ9d8S"
      },
      "execution_count": null,
      "outputs": []
    },
    {
      "cell_type": "code",
      "source": [
        "shap.plots.initjs()  # this is important for forceplots and can be done only once\n",
        "plt.figure()\n",
        "shap.plots.force(sv_train[sample_id])"
      ],
      "metadata": {
        "id": "ajMPgYJD9d6L"
      },
      "execution_count": null,
      "outputs": []
    },
    {
      "cell_type": "markdown",
      "source": [
        "#### <mark>**Ex. 4:**</mark> Analyse relationship between SHAP values and prediction change"
      ],
      "metadata": {
        "id": "R4hYLkM6etSO"
      }
    },
    {
      "cell_type": "code",
      "source": [
        "most_important_idx = np.argmax(np.absolute(sv_train[sample_id].values))\n",
        "print('highest SHAP value', sv_train.values[sample_id, most_important_idx])\n",
        "\n",
        "sample = sv_train[sample_id].data\n",
        "changed_sample = sample.copy()\n",
        "changed_sample[most_important_idx] = not changed_sample[most_important_idx]\n",
        "\n",
        "pred = xgb_model.predict_proba(sample.reshape(1, -1))[0]  # [0] - 'cause nested arrays attack\n",
        "changed_pred = xgb_model.predict_proba(changed_sample.reshape(1, -1))[0]\n",
        "print('prediction change', (pred-changed_pred)[1])  # [1] - active class probability"
      ],
      "metadata": {
        "id": "CgL47KYZ9d32"
      },
      "execution_count": null,
      "outputs": []
    },
    {
      "cell_type": "markdown",
      "source": [
        "**conclusion:**"
      ],
      "metadata": {
        "id": "zoNcWX-mBHEE"
      }
    },
    {
      "cell_type": "markdown",
      "source": [
        "# Let's switch to regression!"
      ],
      "metadata": {
        "id": "vo33fZSeBSms"
      }
    },
    {
      "cell_type": "markdown",
      "source": [
        "#### Download and prepare ESOL data"
      ],
      "metadata": {
        "id": "FrlnMu49BSga"
      }
    },
    {
      "cell_type": "code",
      "source": [
        "esol = get_esol_data()\n",
        "esol = QSPRDataset(name='ESOL', df=esol, store_dir=out_data_dir,\n",
        "                    smiles_col='smiles',\n",
        "                    target_props=[{\"name\":'ESOL predicted log solubility in mols per litre', \"task\":\"regression\"}],\n",
        "                    overwrite=True,\n",
        "                    random_state=42)\n"
      ],
      "metadata": {
        "id": "rpRBgyHMBUmd"
      },
      "execution_count": null,
      "outputs": []
    },
    {
      "cell_type": "markdown",
      "source": [
        "<mark>Choose which split to use.</mark>"
      ],
      "metadata": {
        "id": "CoaogSUOO6UN"
      }
    },
    {
      "cell_type": "code",
      "source": [
        "# Specifiy random split for creating the train (80%) and test set (20%)\n",
        "erand_split = RandomSplit(test_fraction=0.2, dataset=dataset)\n",
        "eclst_split = ClusterSplit(test_fraction=0.2, dataset=dataset)\n",
        "\n",
        "# calculate compound features and split dataset into train and test\n",
        "esol.prepareDataset(\n",
        "    split=eclst_split,\n",
        "    feature_calculators=[MaccsFP()],\n",
        ")\n",
        "\n",
        "esol.save()"
      ],
      "metadata": {
        "id": "YyuUvnHpBUkU"
      },
      "execution_count": null,
      "outputs": []
    },
    {
      "cell_type": "markdown",
      "source": [
        "## Train the model"
      ],
      "metadata": {
        "id": "Trjlmme6CAgx"
      }
    },
    {
      "cell_type": "code",
      "source": [
        "exgb = xgboost.XGBRFRegressor()\n",
        "exgb = exgb.fit(esol.X, esol.y)\n",
        "\n",
        "scores = score_model(xgb_model, dataset)\n",
        "for key in sorted(scores):\n",
        "  print(f'{key}: {scores[key]:.2f}')"
      ],
      "metadata": {
        "id": "gIJ5saV7BUh_"
      },
      "execution_count": null,
      "outputs": []
    },
    {
      "cell_type": "markdown",
      "source": [
        "## Explain"
      ],
      "metadata": {
        "id": "Zf9MGvOGCtVC"
      }
    },
    {
      "cell_type": "markdown",
      "source": [
        "<mark>Define an explainer and calculate explanations on train and test set.</mark>\n",
        "\n",
        "You can use [documentation](https://shap.readthedocs.io/en/latest/generated/shap.TreeExplainer.html#shap.TreeExplainer)."
      ],
      "metadata": {
        "id": "jCsugYz8ywt2"
      }
    },
    {
      "cell_type": "code",
      "source": [
        "regsplainer = shap.TreeExplainer('your code here')\n",
        "essv_tr = 'your code here'\n",
        "essv_te = 'your code here'"
      ],
      "metadata": {
        "id": "tz4YmyepBUfV"
      },
      "execution_count": null,
      "outputs": []
    },
    {
      "cell_type": "code",
      "source": [
        "# calculating gini\n",
        "esgini = exgb.feature_importances_"
      ],
      "metadata": {
        "id": "3NLT8OaPBUc0"
      },
      "execution_count": null,
      "outputs": []
    },
    {
      "cell_type": "markdown",
      "source": [
        "#### <mark>**Ex. 1:**</mark> Check whether SHAP values sum to the prediction.\n",
        "\n",
        "Use `model.predict()`."
      ],
      "metadata": {
        "id": "NiiIUyKTC9Zj"
      }
    },
    {
      "cell_type": "code",
      "source": [
        "es_preds = 'your code here'     # calculate predictions\n",
        "es_shap_sum = 'your code here'  # calculate the sum of SHAP values for each sample"
      ],
      "metadata": {
        "id": "XEXTqJHSCuYR"
      },
      "execution_count": null,
      "outputs": []
    },
    {
      "cell_type": "code",
      "source": [
        "es_diff = 'your code here'  # calculate the difference between predictions and summed SHAP values\n",
        "print(es_diff.min(), es_diff.max(), np.mean(es_diff), np.var(es_diff))"
      ],
      "metadata": {
        "id": "GqiIexR1CuVV"
      },
      "execution_count": null,
      "outputs": []
    },
    {
      "cell_type": "markdown",
      "source": [
        "**conclusion:**"
      ],
      "metadata": {
        "id": "K8xylldejBzQ"
      }
    },
    {
      "cell_type": "markdown",
      "source": [
        "#### <mark>**Ex. 2:**</mark> Compare Gini coefficients and SHAP values"
      ],
      "metadata": {
        "id": "AwDTwfxtC-Wj"
      }
    },
    {
      "cell_type": "code",
      "source": [
        "# Correlations of -1 or +1 imply an exact linear relationship. Positive correlations imply that as x increases, so does y\n",
        "'your code here'"
      ],
      "metadata": {
        "id": "NXdviWM8CuR1"
      },
      "execution_count": null,
      "outputs": []
    },
    {
      "cell_type": "markdown",
      "source": [
        "**conclusion:**"
      ],
      "metadata": {
        "id": "p1vbGhZyjEH0"
      }
    },
    {
      "cell_type": "markdown",
      "source": [
        "<mark>Which feature was ranked most different by SHAP and Gini?</mark>\n",
        "\n",
        "Remember that function `np.argsort` sorts from lowest to largest values."
      ],
      "metadata": {
        "id": "iRpv6eN0gVBk"
      }
    },
    {
      "cell_type": "code",
      "source": [
        "e_gini_rank = 'your code here'  # calculate rank\n",
        "e_shap_rank = 'your code here'\n",
        "\n",
        "rank_diff = 'your code here'  # calculate the difference between rankings\n",
        "\n",
        "diffest_feature = np.argmax(rank_diff)\n",
        "distance = rank_diff[diffest_feature]\n",
        "\n",
        "print(f'feature name: {essv_tr.feature_names[diffest_feature]}, feature SMARTS: {get_smarts_by_number(diffest_feature)}; distance: {distance}')"
      ],
      "metadata": {
        "id": "ZPv0n_dMCuO7"
      },
      "execution_count": null,
      "outputs": []
    },
    {
      "cell_type": "markdown",
      "source": [
        "<mark>If we chose k most important features using Gini and using SHAP, would we get the same features?</mark>"
      ],
      "metadata": {
        "id": "qQlghSNygfHS"
      }
    },
    {
      "cell_type": "code",
      "source": [
        "# if we chose k most important features using Gini and using SHAP, would we get the same features?\n",
        "for k in[5, 10, 25, 50]:\n",
        "  gini_k = e_gini_rank[:k]\n",
        "  shap_k = e_shap_rank[:k]\n",
        "  n_common = len(set(gini_k).intersection(set(shap_k)))\n",
        "  print(k, n_common/k)"
      ],
      "metadata": {
        "id": "NNY-mJuHBUaQ"
      },
      "execution_count": null,
      "outputs": []
    },
    {
      "cell_type": "markdown",
      "source": [
        "**conclusion:**"
      ],
      "metadata": {
        "id": "MADqh1AWi47v"
      }
    },
    {
      "cell_type": "markdown",
      "source": [
        "#### <mark>**Ex. 3:**</mark> Visualisation of SHAP explanations"
      ],
      "metadata": {
        "id": "-1edtvsNDwzP"
      }
    },
    {
      "cell_type": "code",
      "source": [
        "sample_id = np.random.randint(len(esol.X))\n",
        "print(sample_id)"
      ],
      "metadata": {
        "id": "dAvt3nqX9dyR"
      },
      "execution_count": null,
      "outputs": []
    },
    {
      "cell_type": "code",
      "source": [
        "plt.figure()\n",
        "shap.plots.waterfall(essv_tr[sample_id])"
      ],
      "metadata": {
        "id": "TKTUEh0VDrGN"
      },
      "execution_count": null,
      "outputs": []
    },
    {
      "cell_type": "markdown",
      "source": [
        "#### <mark>**Ex. 4:**</mark> Analyse relationship between SHAP values and prediction change"
      ],
      "metadata": {
        "id": "rH9vDiV4hCUJ"
      }
    },
    {
      "cell_type": "code",
      "source": [
        "most_important_idx = np.argmax(np.absolute(essv_tr[sample_id].values))\n",
        "sample = essv_tr[sample_id].data\n",
        "changed_sample = sample.copy()\n",
        "changed_sample[most_important_idx] = not changed_sample[most_important_idx]\n",
        "print(f'highest SHAP value: {essv_tr.values[sample_id, most_important_idx]}')\n",
        "\n",
        "pred = exgb.predict(sample.reshape(1, -1))[0]  # [0] - 'cause nested arrays attack\n",
        "changed_pred = exgb.predict(changed_sample.reshape(1, -1))[0]\n",
        "print('prediction change:', (pred-changed_pred))"
      ],
      "metadata": {
        "id": "X8mWEehaDq9Y"
      },
      "execution_count": null,
      "outputs": []
    },
    {
      "cell_type": "markdown",
      "source": [
        "**conclusion:**"
      ],
      "metadata": {
        "id": "GSWt-LChi04r"
      }
    },
    {
      "cell_type": "markdown",
      "source": [
        "## Let's play around some more!"
      ],
      "metadata": {
        "id": "u1U_3iVfEGsb"
      }
    },
    {
      "cell_type": "markdown",
      "source": [
        "<mark>Select your favorite MACCS key</mark>"
      ],
      "metadata": {
        "id": "_maLctIshchH"
      }
    },
    {
      "cell_type": "code",
      "source": [
        "favourite = 68\n",
        "get_smarts(f'MACCSFP_MACCSFP_{favourite}'), get_smarts_by_number(favourite), get_smarts_by_number([145, favourite])"
      ],
      "metadata": {
        "id": "FvaEot1cEHYE"
      },
      "execution_count": null,
      "outputs": []
    },
    {
      "cell_type": "markdown",
      "source": [
        "Let's see what molecules in the dataset contain this pattern"
      ],
      "metadata": {
        "id": "8h1ic6L0z0JW"
      }
    },
    {
      "cell_type": "code",
      "source": [
        "df_smarts = esol.searchWithSMARTS([get_smarts_by_number(favourite)[0]])\n",
        "display(df_smarts.df)"
      ],
      "metadata": {
        "id": "bso0wPwfEH6Z"
      },
      "execution_count": null,
      "outputs": []
    },
    {
      "cell_type": "markdown",
      "source": [
        "# Model debugging\n",
        "#### <mark>**Ex. 5:**</mark> Compare which features are most important among correctly and incorrectly predicted samples."
      ],
      "metadata": {
        "id": "GxHbdiD-F2QR"
      }
    },
    {
      "cell_type": "markdown",
      "source": [
        "analyse correct predictions:"
      ],
      "metadata": {
        "id": "PEk9nIHtkEhe"
      }
    },
    {
      "cell_type": "code",
      "source": [
        "preds = 'your code here'  # calculate predictions\n",
        "true = 'your code here'   # true labels\n",
        "errors = np.absolute(preds-true)"
      ],
      "metadata": {
        "id": "uJnsh0OhEH3b"
      },
      "execution_count": null,
      "outputs": []
    },
    {
      "cell_type": "code",
      "source": [
        "correct_threshold = 1\n",
        "correct_mask = errors<correct_threshold\n",
        "\n",
        "correct_ratio = np.sum(correct_mask)/len(errors)\n",
        "print(f'Ratio of correctly predicted samples: {correct_ratio}')"
      ],
      "metadata": {
        "id": "Z7zZG2FxEH0c"
      },
      "execution_count": null,
      "outputs": []
    },
    {
      "cell_type": "code",
      "source": [
        "correct_preds=preds[correct_mask]\n",
        "correct_shaps = essv_tr[correct_mask]"
      ],
      "metadata": {
        "id": "UY9S7MYLGgxy"
      },
      "execution_count": null,
      "outputs": []
    },
    {
      "cell_type": "code",
      "source": [
        "# which features are the most important?\n",
        "plt.figure()\n",
        "shap.plots.bar(correct_shaps)"
      ],
      "metadata": {
        "id": "SB7XMhE_GgvP"
      },
      "execution_count": null,
      "outputs": []
    },
    {
      "cell_type": "code",
      "source": [
        "print(f'the most important feature is: {get_smarts_by_number('your code here')}')"
      ],
      "metadata": {
        "id": "aqLg2jmfGgs9"
      },
      "execution_count": null,
      "outputs": []
    },
    {
      "cell_type": "code",
      "source": [
        "# find 10 most important features\n",
        "global_feature_importance = np.mean(np.absolute(correct_shaps.values), axis=0)\n",
        "k = 10\n",
        "top_k = np.flip(np.argsort(global_feature_importance)[-k:])\n",
        "print(f'TOP{k} important features:')\n",
        "for rank_position, sm in enumerate(get_smarts_by_number(top_k)):\n",
        "  print(f'{rank_position+1}. {sm}')"
      ],
      "metadata": {
        "id": "1RXNbo3xGgqk"
      },
      "execution_count": null,
      "outputs": []
    },
    {
      "cell_type": "markdown",
      "source": [
        "analyse incorrect predictions"
      ],
      "metadata": {
        "id": "mmE97pN3kJd4"
      }
    },
    {
      "cell_type": "code",
      "source": [
        "# what about incorrect?\n",
        "incorrect_preds=preds[np.invert(correct_mask)]\n",
        "incorrect_shaps = essv_tr[np.invert(correct_mask)]\n",
        "\n",
        "inc_global_feature_importance = np.mean(np.absolute(incorrect_shaps.values), axis=0)\n",
        "inc_top_k = np.flip(np.argsort(inc_global_feature_importance)[-k:])\n",
        "\n",
        "print(f'TOP{k} important features:')\n",
        "for rank_position, sm in enumerate(get_smarts_by_number(inc_top_k)):\n",
        "  print(f'{rank_position+1}. {sm}')"
      ],
      "metadata": {
        "id": "FcB6-JxSGgoP"
      },
      "execution_count": null,
      "outputs": []
    },
    {
      "cell_type": "markdown",
      "source": [
        "What is the difference between the most important features for correct and incorrect predictions?"
      ],
      "metadata": {
        "id": "tvi3nSAg0ZG6"
      }
    },
    {
      "cell_type": "code",
      "source": [
        "diff = set(top_k).symmetric_difference(set(inc_top_k))\n",
        "print(f'features present in only one of the TOP{k} sets: {get_smarts_by_number(list(diff))}')"
      ],
      "metadata": {
        "id": "zIx7nYTQGgl_"
      },
      "execution_count": null,
      "outputs": []
    },
    {
      "cell_type": "code",
      "source": [
        "print('  correct:', top_k)\n",
        "print('incorrect:', inc_top_k)"
      ],
      "metadata": {
        "id": "u9zEJW_JGgjj"
      },
      "execution_count": null,
      "outputs": []
    },
    {
      "cell_type": "markdown",
      "source": [
        "Now, we can compare rankings as before to see which feature makes the biggest difference.\n",
        "\n",
        "Then maybe we can train xgboost without this feature and see if it improves..."
      ],
      "metadata": {
        "id": "Zdn2LL3ek1DF"
      }
    },
    {
      "cell_type": "code",
      "source": [
        "# which feature was ranked most different when SHAP values were calculated on correct and incorrect samples?\n",
        "corr_shap_rank = 'your code here'  # rank based on correct predictions\n",
        "incr_shap_rank = 'your code here'  # rank based on incorrect predictions\n",
        "\n",
        "rank_diff = 'your code here'  # difference between rankings\n",
        "\n",
        "diffest_feature = np.argmax(rank_diff)\n",
        "distance = rank_diff[diffest_feature]\n",
        "\n",
        "print(f'feature name: {correct_shaps.feature_names[diffest_feature]}, feature SMARTS: {get_smarts_by_number(diffest_feature)}; distance: {distance}')"
      ],
      "metadata": {
        "id": "8n6YOGSOGghO"
      },
      "execution_count": null,
      "outputs": []
    },
    {
      "cell_type": "code",
      "source": [
        "print(f'Rank position among correct: {np.where(corr_shap_rank==diffest_feature)[0][0]}')\n",
        "print(f'Rank position among incorrect: {np.where(incr_shap_rank==diffest_feature)[0][0]}')"
      ],
      "metadata": {
        "id": "bP9ZmEzHGge5"
      },
      "execution_count": null,
      "outputs": []
    },
    {
      "cell_type": "markdown",
      "source": [
        "Which molecules contain this substructure (this table also has information whether the molecules are in train or test)"
      ],
      "metadata": {
        "id": "VX9ftL0BlaXV"
      }
    },
    {
      "cell_type": "code",
      "source": [
        "display(esol.searchWithSMARTS([get_smarts_by_number(diffest_feature)[0]]).df)"
      ],
      "metadata": {
        "id": "MnKHUBljGgcX"
      },
      "execution_count": null,
      "outputs": []
    },
    {
      "cell_type": "markdown",
      "source": [
        "Was this feature on average more important for correct or incorrect predictions? Can we come up with an idea why the model makes mistakes (chemical interpretation - is this feature important for solubility etc.)? Can we propose a solution?"
      ],
      "metadata": {
        "id": "F38It8hiHcjd"
      }
    },
    {
      "cell_type": "code",
      "source": [],
      "metadata": {
        "id": "u4HbTkd7IM8X"
      },
      "execution_count": null,
      "outputs": []
    },
    {
      "cell_type": "markdown",
      "source": [
        "#### <mark>**Ex. 6:**</mark> Performance drop\n",
        "Now, we can use the rankings to train a model without the most important features and see if the performance drops.\n",
        "\n",
        "Less features => less information; therefore, for comparison we should also remove 5 random features.\n"
      ],
      "metadata": {
        "id": "RqnaiYDMQb2D"
      }
    },
    {
      "cell_type": "code",
      "source": [
        "scores_orig = score_model(exgb, esol)\n",
        "scores_orig.update(k=0, method='original')\n",
        "scores = [scores_orig]\n",
        "for k in [5, 10, 15]:\n",
        "  # `feature_removal_score` removes features according to different scenarios\n",
        "  # and then trains and evaluates a new model\n",
        "  # only scores are returned\n",
        "  scores.extend(feature_removal_score(k, esol, correct_shaps, corr_shap_rank))\n",
        "\n",
        "scores_df = pd.DataFrame.from_records(scores)\n",
        "display(scores_df)"
      ],
      "metadata": {
        "id": "9KmZ0lcMGgZi"
      },
      "execution_count": null,
      "outputs": []
    },
    {
      "cell_type": "markdown",
      "source": [
        "Let's visualise the results"
      ],
      "metadata": {
        "id": "qe1_zaGHmFqM"
      }
    },
    {
      "cell_type": "code",
      "source": [
        "_ = sns.scatterplot(data=scores_df, x='k', y='test_mse', hue='method')\n",
        "plt.show()"
      ],
      "metadata": {
        "id": "vXo-yn1fmBTk"
      },
      "execution_count": null,
      "outputs": []
    },
    {
      "cell_type": "code",
      "source": [
        "_ = sns.scatterplot(data=scores_df, x='k', y='test_r2', hue='method')\n",
        "plt.show()"
      ],
      "metadata": {
        "id": "zOe2BwzpEHeD"
      },
      "execution_count": null,
      "outputs": []
    },
    {
      "cell_type": "markdown",
      "source": [
        "**conclusion:**"
      ],
      "metadata": {
        "id": "RU7-DDbnJivq"
      }
    },
    {
      "cell_type": "markdown",
      "source": [
        "#### <mark>**Ex. 7:**</mark> Interaction values\n",
        "SHAP allows to calculate and analyse interaction values."
      ],
      "metadata": {
        "id": "t8Q2NbPFJilw"
      }
    },
    {
      "cell_type": "code",
      "source": [
        "interaction_values = regsplainer.shap_interaction_values(esol.X)  # takes 10 minutes"
      ],
      "metadata": {
        "id": "iNN3ARDEGgTl"
      },
      "execution_count": null,
      "outputs": []
    },
    {
      "cell_type": "code",
      "source": [
        "print(f'Indices of TOP{k} most important features {top_k}')"
      ],
      "metadata": {
        "id": "CipsdtB0EHbS"
      },
      "execution_count": null,
      "outputs": []
    },
    {
      "cell_type": "code",
      "source": [
        "# checking feature against itself\n",
        "shap.dependence_plot(\n",
        "    (145, 145),\n",
        "    interaction_values,\n",
        "    esol.X,\n",
        "    display_features=esol.X,\n",
        ")"
      ],
      "metadata": {
        "id": "3Z38ZrjoIagD"
      },
      "execution_count": null,
      "outputs": []
    },
    {
      "cell_type": "code",
      "source": [
        "shap.dependence_plot(\n",
        "    (145, 128),\n",
        "    interaction_values,\n",
        "    esol.X,\n",
        "    display_features=esol.X,\n",
        ")"
      ],
      "metadata": {
        "id": "oz2dOG2qIads"
      },
      "execution_count": null,
      "outputs": []
    },
    {
      "cell_type": "markdown",
      "source": [
        "**conclusion:**"
      ],
      "metadata": {
        "id": "uBAVU0iBKIDo"
      }
    },
    {
      "cell_type": "code",
      "source": [
        "get_smarts_by_number([145, 128])"
      ],
      "metadata": {
        "id": "2MsMV1iBIabF"
      },
      "execution_count": null,
      "outputs": []
    },
    {
      "cell_type": "markdown",
      "source": [
        "## <mark>**Homework**</mark>\n",
        "**Thesis:** In structurally analogous compounds, same features are indicated as important (there is a consistency of ranking of individual features).\n",
        "\n",
        "Find similar compounds in the datasets and compare their SHAP-based feature rankings.\n",
        "\n",
        "Hint: *Interpretation of machine learning models using shapley values: application to compound potency and multi‐target activity predictions* by R. Rodríguez-Pérez and J. Bajorath\n"
      ],
      "metadata": {
        "id": "GeGD7Na8KRQW"
      }
    },
    {
      "cell_type": "code",
      "source": [],
      "metadata": {
        "id": "67IzgS7OIaYJ"
      },
      "execution_count": null,
      "outputs": []
    }
  ]
}